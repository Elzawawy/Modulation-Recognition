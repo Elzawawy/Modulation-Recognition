{
  "nbformat": 4,
  "nbformat_minor": 0,
  "metadata": {
    "colab": {
      "name": "Copy of Copy of Modulation_Recognition_Data.ipynb",
      "version": "0.3.2",
      "provenance": [],
      "collapsed_sections": [
        "TtWEKVg9IzFE",
        "zDHltCOMw9H2",
        "wrCJM5xdxQYx",
        "KSQzMJtUxodR",
        "o0pUts7PyPnW"
      ]
    },
    "kernelspec": {
      "name": "python3",
      "display_name": "Python 3"
    },
    "accelerator": "GPU"
  },
  "cells": [
    {
      "cell_type": "markdown",
      "metadata": {
        "id": "o8oK85zxvbsT",
        "colab_type": "text"
      },
      "source": [
        "# Data Loading Notebook\n",
        "This notebook loads data from dataset file then saves numpy arrays into tensorflow dataset files."
      ]
    },
    {
      "cell_type": "code",
      "metadata": {
        "id": "DWWlZnoLvF_w",
        "colab_type": "code",
        "outputId": "3193aec6-7158-4a78-d2b9-cc7c097cab4c",
        "colab": {
          "base_uri": "https://localhost:8080/",
          "height": 34
        }
      },
      "source": [
        "#Reset Button. Press when memory goes crazy fat !\n",
        "%reset"
      ],
      "execution_count": 0,
      "outputs": [
        {
          "output_type": "stream",
          "text": [
            "Once deleted, variables cannot be recovered. Proceed (y/[n])? y\n"
          ],
          "name": "stdout"
        }
      ]
    },
    {
      "cell_type": "code",
      "metadata": {
        "id": "k0z8bCgrv4hv",
        "colab_type": "code",
        "colab": {}
      },
      "source": [
        "# imports cell\n",
        "import numpy as np\n",
        "import _pickle as cPickle\n",
        "import sys \n",
        "import matplotlib.pyplot as plt\n",
        "import scipy as sp\n",
        "\n",
        "from sklearn.model_selection import train_test_split\n",
        "from sklearn.preprocessing import LabelBinarizer\n",
        "\n",
        "import tensorflow as tf\n",
        "import gc\n"
      ],
      "execution_count": 0,
      "outputs": []
    },
    {
      "cell_type": "markdown",
      "metadata": {
        "id": "tLZVXqD1wAxO",
        "colab_type": "text"
      },
      "source": [
        "## Understanding data\n",
        "\n",
        "We use DeepSig Dataset: RadioML 2016.04C<br>\n",
        "A synthetic dataset, generated with GNU Radio, consisting of 11 modulations. This is a\n",
        "variable-SNR dataset with moderate LO drift, light fading, and numerous different\n",
        "labeled SNR increments for use in measuring performance across different signal and\n",
        "noise power scenarios."
      ]
    },
    {
      "cell_type": "markdown",
      "metadata": {
        "id": "UmLG2ff4wJiK",
        "colab_type": "text"
      },
      "source": [
        "## Loading data\n",
        "\n",
        "The file is formatted as a \"pickle\" file which can be open for example in python by using cPickle.load(...)\n",
        "\n"
      ]
    },
    {
      "cell_type": "code",
      "metadata": {
        "id": "L6n6UgbKv8-J",
        "colab_type": "code",
        "outputId": "f13f5fcf-36a9-4d1e-ec60-08afc3dfaaea",
        "colab": {
          "base_uri": "https://localhost:8080/",
          "height": 34
        }
      },
      "source": [
        "#Loading the data from google drive \n",
        "\n",
        "from google.colab import drive\n",
        "drive.mount('/content/drive')\n",
        "filename = \"/content/drive/My Drive/RML2016.10b.dat\"\n",
        "open_file = open(filename,'rb')\n",
        "data = cPickle.load(open_file, encoding='latin1')"
      ],
      "execution_count": 0,
      "outputs": [
        {
          "output_type": "stream",
          "text": [
            "Drive already mounted at /content/drive; to attempt to forcibly remount, call drive.mount(\"/content/drive\", force_remount=True).\n"
          ],
          "name": "stdout"
        }
      ]
    },
    {
      "cell_type": "markdown",
      "metadata": {
        "id": "zE7v3-nwwb7i",
        "colab_type": "text"
      },
      "source": [
        "## Loading to Numpy arrays"
      ]
    },
    {
      "cell_type": "code",
      "metadata": {
        "id": "w2h6Z4SBwQIk",
        "colab_type": "code",
        "outputId": "fc48f758-8a0e-4cc2-d3d8-1d1a62608cba",
        "colab": {
          "base_uri": "https://localhost:8080/",
          "height": 34
        }
      },
      "source": [
        "# Use lists when accessing data from dict for ease of access.\n",
        "keys_list = list(data.keys())\n",
        "temp_list = []\n",
        "label_list = []\n",
        "for i in range(len(keys_list)):\n",
        "    curr_item = data[keys_list[i]] \n",
        "    temp_list.append(curr_item)\n",
        "    for j in range(curr_item.shape[0]):\n",
        "        label_list.append(keys_list[i])\n",
        "        \n",
        "# Convert all lists into numpy arrays.\n",
        "X = np.array(temp_list).reshape(1200000,2,128)\n",
        "Y = np.array(label_list)\n",
        "\n",
        "# Clear All un-neccsarry lists created.\n",
        "temp_list.clear()\n",
        "label_list.clear()\n",
        "keys_list.clear()\n",
        "data.clear()\n",
        "del(data)\n",
        "del(temp_list)\n",
        "del(label_list)\n",
        "del(keys_list)\n",
        "del(curr_item)\n",
        "gc.collect()"
      ],
      "execution_count": 0,
      "outputs": [
        {
          "output_type": "execute_result",
          "data": {
            "text/plain": [
              "119"
            ]
          },
          "metadata": {
            "tags": []
          },
          "execution_count": 49
        }
      ]
    },
    {
      "cell_type": "code",
      "metadata": {
        "id": "9n8mZdFz_FXo",
        "colab_type": "code",
        "outputId": "8792ef69-d9a2-4e7c-98d3-dfb8fe8d20fe",
        "colab": {
          "base_uri": "https://localhost:8080/",
          "height": 34
        }
      },
      "source": [
        "gc.collect()"
      ],
      "execution_count": 0,
      "outputs": [
        {
          "output_type": "execute_result",
          "data": {
            "text/plain": [
              "0"
            ]
          },
          "metadata": {
            "tags": []
          },
          "execution_count": 50
        }
      ]
    },
    {
      "cell_type": "markdown",
      "metadata": {
        "id": "1-np5PxV16NV",
        "colab_type": "text"
      },
      "source": [
        "## Splitting data\n",
        "\n",
        "Split the data into 50% for training/validation and 50% for testing."
      ]
    },
    {
      "cell_type": "code",
      "metadata": {
        "id": "fR0eFSmUQAth",
        "colab_type": "code",
        "colab": {}
      },
      "source": [
        "def split_data(X,Y,dataset_name): \n",
        "  (trainX, testX, trainY, testY) = train_test_split(X,Y, test_size=0.50, random_state=42)\n",
        "  lb=LabelBinarizer()\n",
        "  lb.fit_transform(trainY[:,0])\n",
        "#   del(testX)\n",
        "#   del(testY)\n",
        "#   gc.collect()\n",
        "  #(trainX, valX, trainY, valY) = train_test_split(trainX,trainY, test_size=0.05, random_state=42)\n",
        "  del(trainX)\n",
        "  del(trainY)\n",
        "  gc.collect()\n",
        "  np.save('/content/drive/My Drive/'+dataset_name+'_SNR.npy',testY[:,1])\n",
        "  #return trainX,lb.fit_transform(trainY[:,0]),testX,lb.transform(testY[:,0]),valX,lb.transform(valY[:,0])\n",
        "\n",
        "  return testX,lb.transform(testY[:,0])"
      ],
      "execution_count": 0,
      "outputs": []
    },
    {
      "cell_type": "markdown",
      "metadata": {
        "id": "Uk6JrP96FKFH",
        "colab_type": "text"
      },
      "source": [
        "## Creating a tensorflow record"
      ]
    },
    {
      "cell_type": "code",
      "metadata": {
        "id": "mD-u3EdwFMpu",
        "colab_type": "code",
        "colab": {}
      },
      "source": [
        "def convert_data_2(data,labels,filename):\n",
        "   with tf.python_io.TFRecordWriter('/content/drive/My Drive/TFDatasets/'+filename+'.tfrecord') as writer:\n",
        "            for i in range(data.shape[0]):\n",
        "                example =convert_signal(data[i],labels[i])  \n",
        "                writer.write(example.SerializeToString())\n",
        "\n",
        "def convert_signal_2(signal,label):\n",
        "  example = tf.train.Example(features = tf.train.Features(feature = {\n",
        "            'feature1': tf.train.Feature(float_list = tf.train.FloatList(value = signal[0].tolist())),\n",
        "            'feature2': tf.train.Feature(float_list = tf.train.FloatList(value = signal[1].tolist())),\n",
        "            'label': tf.train.Feature(int64_list = tf.train.Int64List(value = label.tolist()))\n",
        "  }))\n",
        "  return example\n",
        "  "
      ],
      "execution_count": 0,
      "outputs": []
    },
    {
      "cell_type": "code",
      "metadata": {
        "id": "33sSMk7Tw-AC",
        "colab_type": "code",
        "colab": {}
      },
      "source": [
        "def convert_data_4(data,labels,filename):\n",
        "   with tf.python_io.TFRecordWriter('/content/drive/My Drive/TFDatasets/'+filename+'.tfrecord') as writer:\n",
        "            for i in range(data.shape[0]):\n",
        "                example =convert_signal_4(data[i],labels[i])  \n",
        "                writer.write(example.SerializeToString())\n",
        "\n",
        "def convert_signal_4(signal,label):\n",
        "  example = tf.train.Example(features = tf.train.Features(feature = {\n",
        "            'feature1': tf.train.Feature(float_list = tf.train.FloatList(value = signal[0].tolist())),\n",
        "            'feature2': tf.train.Feature(float_list = tf.train.FloatList(value = signal[1].tolist())),\n",
        "            'feature3': tf.train.Feature(float_list = tf.train.FloatList(value = signal[2].tolist())),\n",
        "            'feature4': tf.train.Feature(float_list = tf.train.FloatList(value = signal[3].tolist())),\n",
        "            'label': tf.train.Feature(int64_list = tf.train.Int64List(value = label.tolist()))\n",
        "  }))\n",
        "  return example"
      ],
      "execution_count": 0,
      "outputs": []
    },
    {
      "cell_type": "code",
      "metadata": {
        "id": "Oe9niSKj8D2N",
        "colab_type": "code",
        "colab": {}
      },
      "source": [
        "def convert_data_6(data,labels,filename):\n",
        "   with tf.python_io.TFRecordWriter('/content/drive/My Drive/TFDatasets/'+filename+'.tfrecord') as writer:\n",
        "            for i in range(data.shape[0]):\n",
        "                example =convert_signal_6(data[i],labels[i])  \n",
        "                writer.write(example.SerializeToString())\n",
        "\n",
        "def convert_signal_6(signal,label):\n",
        "  example = tf.train.Example(features = tf.train.Features(feature = {\n",
        "            'feature1': tf.train.Feature(float_list = tf.train.FloatList(value = signal[0].tolist())),\n",
        "            'feature2': tf.train.Feature(float_list = tf.train.FloatList(value = signal[1].tolist())),\n",
        "            'feature3': tf.train.Feature(float_list = tf.train.FloatList(value = signal[2].tolist())),\n",
        "            'feature4': tf.train.Feature(float_list = tf.train.FloatList(value = signal[3].tolist())),\n",
        "            'feature5': tf.train.Feature(float_list = tf.train.FloatList(value = signal[4].tolist())),\n",
        "            'feature6': tf.train.Feature(float_list = tf.train.FloatList(value = signal[5].tolist())),\n",
        "            'label': tf.train.Feature(int64_list = tf.train.Int64List(value = label.tolist()))\n",
        "  }))\n",
        "  return example"
      ],
      "execution_count": 0,
      "outputs": []
    },
    {
      "cell_type": "code",
      "metadata": {
        "id": "WL0AtrXI8PjM",
        "colab_type": "code",
        "outputId": "7236b34c-e2e4-4431-b746-bc3830405e2b",
        "colab": {
          "base_uri": "https://localhost:8080/",
          "height": 34
        }
      },
      "source": [
        "gc.collect()"
      ],
      "execution_count": 0,
      "outputs": [
        {
          "output_type": "execute_result",
          "data": {
            "text/plain": [
              "0"
            ]
          },
          "metadata": {
            "tags": []
          },
          "execution_count": 56
        }
      ]
    },
    {
      "cell_type": "markdown",
      "metadata": {
        "id": "5wPLYuFfwndS",
        "colab_type": "text"
      },
      "source": [
        "## Create feature Spaces for data\n",
        "\n",
        "Every sample is presented using two vectors each of them has 128 elements. Those two vectors are the in-phase and quadrature phase components of a sample.\n",
        "\n",
        "X array consists of those two raw features."
      ]
    },
    {
      "cell_type": "markdown",
      "metadata": {
        "id": "TtWEKVg9IzFE",
        "colab_type": "text"
      },
      "source": [
        "### Raw Features"
      ]
    },
    {
      "cell_type": "code",
      "metadata": {
        "colab_type": "code",
        "id": "iQT9vRmg8lc2",
        "colab": {}
      },
      "source": [
        "#split the data into test, train and validation sets.\n",
        "(trainX, trainY, testX, testY, valX, valY) = split_data(X,Y,'raw')"
      ],
      "execution_count": 0,
      "outputs": []
    },
    {
      "cell_type": "code",
      "metadata": {
        "id": "H9ALEQ458nrw",
        "colab_type": "code",
        "colab": {}
      },
      "source": [
        "convert_data(trainX,trainY,'raw_train_data')\n",
        "convert_data(testX,testY,'raw_test_data')\n",
        "convert_data(valX,valY,'raw_val_data')"
      ],
      "execution_count": 0,
      "outputs": []
    },
    {
      "cell_type": "markdown",
      "metadata": {
        "id": "zDHltCOMw9H2",
        "colab_type": "text"
      },
      "source": [
        "### Integration Features (2 features)\n",
        "One for the in-phase component and one for quadrature phase component."
      ]
    },
    {
      "cell_type": "code",
      "metadata": {
        "id": "so_pAM4UwjY0",
        "colab_type": "code",
        "colab": {}
      },
      "source": [
        "int_X = np.apply_along_axis(lambda column:np.hstack((0,column)),2,np.apply_along_axis(lambda column:sp.integrate.cumtrapz(column,dx=1,axis=-1),2,X))"
      ],
      "execution_count": 0,
      "outputs": []
    },
    {
      "cell_type": "code",
      "metadata": {
        "id": "3cNr6uRpUUoZ",
        "colab_type": "code",
        "colab": {}
      },
      "source": [
        "del(X)\n",
        "gc.collect()"
      ],
      "execution_count": 0,
      "outputs": []
    },
    {
      "cell_type": "code",
      "metadata": {
        "id": "Yi4UxxNR402a",
        "colab_type": "code",
        "colab": {}
      },
      "source": [
        "#split the data into test, train and validation sets.\n",
        "(trainX, trainY, testX, testY, valX, valY) = split_data(int_X,Y,'int')"
      ],
      "execution_count": 0,
      "outputs": []
    },
    {
      "cell_type": "code",
      "metadata": {
        "id": "BnSMKMuT9oy1",
        "colab_type": "code",
        "colab": {}
      },
      "source": [
        "convert_data(trainX,trainY,'int_train_data')\n",
        "convert_data(testX,testY,'int_test_data')\n",
        "convert_data(valX,valY,'int_val_data')"
      ],
      "execution_count": 0,
      "outputs": []
    },
    {
      "cell_type": "code",
      "metadata": {
        "id": "StYta_1yVsSh",
        "colab_type": "code",
        "outputId": "385700cc-45de-4fc7-9f01-51fc21fc7632",
        "colab": {
          "base_uri": "https://localhost:8080/",
          "height": 34
        }
      },
      "source": [
        "del(int_X)\n",
        "del(trainX,trainY,testX, testY, valX, valY)\n",
        "gc.collect()"
      ],
      "execution_count": 0,
      "outputs": [
        {
          "output_type": "execute_result",
          "data": {
            "text/plain": [
              "453"
            ]
          },
          "metadata": {
            "tags": []
          },
          "execution_count": 13
        }
      ]
    },
    {
      "cell_type": "markdown",
      "metadata": {
        "id": "wrCJM5xdxQYx",
        "colab_type": "text"
      },
      "source": [
        "### Derivative Features (2 features)\n",
        "One for the in-phase component and one for quadrature phase component."
      ]
    },
    {
      "cell_type": "code",
      "metadata": {
        "id": "0IhHmyycxiGB",
        "colab_type": "code",
        "colab": {}
      },
      "source": [
        "der_X = np.apply_along_axis(lambda column:np.gradient(column),2,X)"
      ],
      "execution_count": 0,
      "outputs": []
    },
    {
      "cell_type": "code",
      "metadata": {
        "id": "C_AkQ0aSVTYW",
        "colab_type": "code",
        "outputId": "63707676-7a18-43ae-eb46-d368ca5aef44",
        "colab": {
          "base_uri": "https://localhost:8080/",
          "height": 34
        }
      },
      "source": [
        "del(X)\n",
        "gc.collect()"
      ],
      "execution_count": 0,
      "outputs": [
        {
          "output_type": "execute_result",
          "data": {
            "text/plain": [
              "0"
            ]
          },
          "metadata": {
            "tags": []
          },
          "execution_count": 18
        }
      ]
    },
    {
      "cell_type": "code",
      "metadata": {
        "id": "JyxOQRJo5Ll4",
        "colab_type": "code",
        "colab": {}
      },
      "source": [
        "#split the data into test, train and validation sets.\n",
        "(trainX, trainY, testX, testY, valX, valY) = split_data(der_X,Y,'der')"
      ],
      "execution_count": 0,
      "outputs": []
    },
    {
      "cell_type": "code",
      "metadata": {
        "id": "C7WsJpOK9uxX",
        "colab_type": "code",
        "colab": {}
      },
      "source": [
        "convert_data(trainX,trainY,'der_train_data')\n",
        "convert_data(testX,testY,'der_test_data')\n",
        "convert_data(valX,valY,'der_val_data')"
      ],
      "execution_count": 0,
      "outputs": []
    },
    {
      "cell_type": "code",
      "metadata": {
        "colab_type": "code",
        "outputId": "3bc1da76-a7b1-42bc-90dc-47869ac63a4d",
        "id": "vjejxWnlXGDZ",
        "colab": {
          "base_uri": "https://localhost:8080/",
          "height": 34
        }
      },
      "source": [
        "del(der_X)\n",
        "del(trainX,trainY,testX, testY, valX, valY)\n",
        "gc.collect()"
      ],
      "execution_count": 0,
      "outputs": [
        {
          "output_type": "execute_result",
          "data": {
            "text/plain": [
              "288"
            ]
          },
          "metadata": {
            "tags": []
          },
          "execution_count": 22
        }
      ]
    },
    {
      "cell_type": "markdown",
      "metadata": {
        "id": "KSQzMJtUxodR",
        "colab_type": "text"
      },
      "source": [
        "### Combination 1: Derivative Features + Raw Features (4 features)"
      ]
    },
    {
      "cell_type": "code",
      "metadata": {
        "id": "_Uref8qYyEIH",
        "colab_type": "code",
        "colab": {}
      },
      "source": [
        "com_one_X = np.concatenate((np.apply_along_axis(lambda column:np.gradient(column),2,X),X),axis=1)"
      ],
      "execution_count": 0,
      "outputs": []
    },
    {
      "cell_type": "code",
      "metadata": {
        "id": "xwxLvij65NQp",
        "colab_type": "code",
        "colab": {}
      },
      "source": [
        "#split the data into test, train and validation sets.\n",
        "(trainX, trainY, testX, testY, valX, valY) = split_data(com_one_X,Y,'com_one')"
      ],
      "execution_count": 0,
      "outputs": []
    },
    {
      "cell_type": "code",
      "metadata": {
        "id": "3d11n7c394dz",
        "colab_type": "code",
        "colab": {}
      },
      "source": [
        "convert_data_4(trainX,trainY,'com1_train_data')\n",
        "convert_data_4(testX,testY,'com1_test_data')\n",
        "convert_data_4(valX,valY,'com1_val_data')"
      ],
      "execution_count": 0,
      "outputs": []
    },
    {
      "cell_type": "code",
      "metadata": {
        "colab_type": "code",
        "outputId": "a441d328-bb14-4067-95a2-6eec172b5ad0",
        "id": "R2TNu3pYXPPL",
        "colab": {
          "base_uri": "https://localhost:8080/",
          "height": 34
        }
      },
      "source": [
        "#del(X)\n",
        "#del(trainX,trainY,testX, testY, valX, valY)\n",
        "gc.collect()"
      ],
      "execution_count": 0,
      "outputs": [
        {
          "output_type": "execute_result",
          "data": {
            "text/plain": [
              "0"
            ]
          },
          "metadata": {
            "tags": []
          },
          "execution_count": 12
        }
      ]
    },
    {
      "cell_type": "markdown",
      "metadata": {
        "id": "o0pUts7PyPnW",
        "colab_type": "text"
      },
      "source": [
        "### Combination 2: Integration Features + Raw Features (4 features)"
      ]
    },
    {
      "cell_type": "code",
      "metadata": {
        "id": "P3ItEiddyUVW",
        "colab_type": "code",
        "colab": {}
      },
      "source": [
        "com_two_X = np.concatenate((np.apply_along_axis(lambda column:np.hstack((0,column)),2,np.apply_along_axis(lambda column:sp.integrate.cumtrapz(column,dx=1,axis=-1),2,X)),X),axis=1)"
      ],
      "execution_count": 0,
      "outputs": []
    },
    {
      "cell_type": "code",
      "metadata": {
        "id": "KdrN8_ke5QpR",
        "colab_type": "code",
        "colab": {}
      },
      "source": [
        "#split the data into test, train and validation sets.\n",
        "(testX,testY) = split_data(com_two_X,Y,'com_two')"
      ],
      "execution_count": 0,
      "outputs": []
    },
    {
      "cell_type": "code",
      "metadata": {
        "id": "7vbvrT7cZlWp",
        "colab_type": "code",
        "outputId": "9fa48a4f-c2a7-4425-d164-12a3f9952e7a",
        "colab": {
          "base_uri": "https://localhost:8080/",
          "height": 34
        }
      },
      "source": [
        "del(X)\n",
        "#del(trainX,trainY)\n",
        "gc.collect()"
      ],
      "execution_count": 0,
      "outputs": [
        {
          "output_type": "execute_result",
          "data": {
            "text/plain": [
              "0"
            ]
          },
          "metadata": {
            "tags": []
          },
          "execution_count": 9
        }
      ]
    },
    {
      "cell_type": "code",
      "metadata": {
        "id": "SF0_r0yY3bNT",
        "colab_type": "code",
        "outputId": "7399ca9c-08aa-4c88-c6ec-531659a82bfb",
        "colab": {
          "base_uri": "https://localhost:8080/",
          "height": 34
        }
      },
      "source": [
        "gc.collect()"
      ],
      "execution_count": 0,
      "outputs": [
        {
          "output_type": "execute_result",
          "data": {
            "text/plain": [
              "0"
            ]
          },
          "metadata": {
            "tags": []
          },
          "execution_count": 23
        }
      ]
    },
    {
      "cell_type": "code",
      "metadata": {
        "id": "nsdcKEdw-F3f",
        "colab_type": "code",
        "colab": {}
      },
      "source": [
        "#convert_data_4(trainX,trainY,'com2_train_data')\n",
        "convert_data_4(testX,testY,'com2_test_data')\n",
        "#convert_data_4(valX,valY,'com2_val_data')"
      ],
      "execution_count": 0,
      "outputs": []
    },
    {
      "cell_type": "code",
      "metadata": {
        "colab_type": "code",
        "outputId": "204360be-7fe9-408c-de39-5d98262545c0",
        "id": "0UwrEw8JZegy",
        "colab": {
          "base_uri": "https://localhost:8080/",
          "height": 34
        }
      },
      "source": [
        "#del(com_two_X)\n",
        "#del(trainX,trainY,valX, valY)\n",
        "gc.collect()"
      ],
      "execution_count": 0,
      "outputs": [
        {
          "output_type": "execute_result",
          "data": {
            "text/plain": [
              "0"
            ]
          },
          "metadata": {
            "tags": []
          },
          "execution_count": 12
        }
      ]
    },
    {
      "cell_type": "markdown",
      "metadata": {
        "id": "bZIiyp6Zyalt",
        "colab_type": "text"
      },
      "source": [
        "### Combination 3: Integration Features + Derivative Features (4 features)"
      ]
    },
    {
      "cell_type": "code",
      "metadata": {
        "id": "s92NrwdIyffb",
        "colab_type": "code",
        "colab": {}
      },
      "source": [
        "com_three_X = np.concatenate((np.apply_along_axis(lambda column:np.gradient(column),2,X)\n",
        "                              ,np.apply_along_axis(lambda column:np.hstack((0,column)),2,np.apply_along_axis(lambda column:sp.integrate.cumtrapz(column,dx=1,axis=-1),2,X))),axis=1)"
      ],
      "execution_count": 0,
      "outputs": []
    },
    {
      "cell_type": "code",
      "metadata": {
        "id": "Zvhzj5rVClLf",
        "colab_type": "code",
        "outputId": "e8dc22fc-676c-4812-9a38-002d776626ff",
        "colab": {
          "base_uri": "https://localhost:8080/",
          "height": 34
        }
      },
      "source": [
        "del(X)\n",
        "gc.collect()"
      ],
      "execution_count": 0,
      "outputs": [
        {
          "output_type": "execute_result",
          "data": {
            "text/plain": [
              "0"
            ]
          },
          "metadata": {
            "tags": []
          },
          "execution_count": 25
        }
      ]
    },
    {
      "cell_type": "code",
      "metadata": {
        "id": "Vflwu9T35S_f",
        "colab_type": "code",
        "colab": {}
      },
      "source": [
        "#split the data into test, train and validation sets.\n",
        "(testX,testY) = split_data(com_three_X,Y, 'com_three')"
      ],
      "execution_count": 0,
      "outputs": []
    },
    {
      "cell_type": "code",
      "metadata": {
        "id": "NyHBPwj25Mrd",
        "colab_type": "code",
        "outputId": "9e59cfea-c351-40b1-ff2b-003ef6765e96",
        "colab": {
          "base_uri": "https://localhost:8080/",
          "height": 34
        }
      },
      "source": [
        "gc.collect()"
      ],
      "execution_count": 0,
      "outputs": [
        {
          "output_type": "execute_result",
          "data": {
            "text/plain": [
              "0"
            ]
          },
          "metadata": {
            "tags": []
          },
          "execution_count": 41
        }
      ]
    },
    {
      "cell_type": "code",
      "metadata": {
        "id": "pdeGEKfV-vg7",
        "colab_type": "code",
        "colab": {}
      },
      "source": [
        "#convert_data_4(trainX,trainY,'com3_train_data')\n",
        "convert_data_4(testX,testY,'com3_test_data')\n",
        "#convert_data_4(valX,valY,'com3_val_data')"
      ],
      "execution_count": 0,
      "outputs": []
    },
    {
      "cell_type": "markdown",
      "metadata": {
        "id": "sueeHFn1yhN0",
        "colab_type": "text"
      },
      "source": [
        "### Combination 4: Integration Features + Derivative Features + Raw Features (6 features)"
      ]
    },
    {
      "cell_type": "code",
      "metadata": {
        "id": "boY7myzEyo1m",
        "colab_type": "code",
        "colab": {}
      },
      "source": [
        "com_four_X = np.concatenate((np.apply_along_axis(lambda column:np.gradient(column),2,X)\n",
        "                              ,np.apply_along_axis(lambda column:np.hstack((0,column)),2,np.apply_along_axis(lambda column:sp.integrate.cumtrapz(column,dx=1,axis=-1),2,X)),X),axis=1)"
      ],
      "execution_count": 0,
      "outputs": []
    },
    {
      "cell_type": "code",
      "metadata": {
        "id": "og2vV31255cY",
        "colab_type": "code",
        "outputId": "bfe3212e-92df-4409-db49-9980be86aa77",
        "colab": {
          "base_uri": "https://localhost:8080/",
          "height": 34
        }
      },
      "source": [
        "del(X)\n",
        "gc.collect()"
      ],
      "execution_count": 0,
      "outputs": [
        {
          "output_type": "execute_result",
          "data": {
            "text/plain": [
              "0"
            ]
          },
          "metadata": {
            "tags": []
          },
          "execution_count": 60
        }
      ]
    },
    {
      "cell_type": "code",
      "metadata": {
        "id": "rYypnvQzaFdM",
        "colab_type": "code",
        "colab": {}
      },
      "source": [
        "dat_int_der_raw=np.load('/content/drive/My Drive/X_rawdiffinteg.npy')"
      ],
      "execution_count": 0,
      "outputs": []
    },
    {
      "cell_type": "code",
      "metadata": {
        "id": "KjmQ68M55aCH",
        "colab_type": "code",
        "colab": {}
      },
      "source": [
        "#split the data into test, train and validation sets.\n",
        "(trainX, trainY, testX, testY, valX, valY) = split_data(dat_int_der_raw,Y)"
      ],
      "execution_count": 0,
      "outputs": []
    },
    {
      "cell_type": "code",
      "metadata": {
        "id": "UiL8dhQy-zMk",
        "colab_type": "code",
        "colab": {}
      },
      "source": [
        "convert_data(trainX,trainY,'com4_train_data')\n",
        "convert_data(testX,testY,'com4_test_data')\n",
        "convert_data(valX,valY,'com4_val_data')"
      ],
      "execution_count": 0,
      "outputs": []
    },
    {
      "cell_type": "code",
      "metadata": {
        "id": "I8QtVLntcliv",
        "colab_type": "code",
        "colab": {}
      },
      "source": [
        ""
      ],
      "execution_count": 0,
      "outputs": []
    },
    {
      "cell_type": "code",
      "metadata": {
        "id": "uBgk6BKI2zvF",
        "colab_type": "code",
        "colab": {}
      },
      "source": [
        ""
      ],
      "execution_count": 0,
      "outputs": []
    }
  ]
}